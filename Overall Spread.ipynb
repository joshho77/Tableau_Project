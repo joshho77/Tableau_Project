{
 "cells": [
  {
   "cell_type": "code",
   "execution_count": 1,
   "metadata": {},
   "outputs": [],
   "source": [
    "import pandas as pd"
   ]
  },
  {
   "cell_type": "code",
   "execution_count": 2,
   "metadata": {},
   "outputs": [
    {
     "data": {
      "text/plain": [
       "17981"
      ]
     },
     "execution_count": 2,
     "metadata": {},
     "output_type": "execute_result"
    }
   ],
   "source": [
    "csv = pd.read_csv('fifa18.csv', sep=',', low_memory=False)\n",
    "ratings = csv['Overall']\n",
    "len(ratings)"
   ]
  },
  {
   "cell_type": "code",
   "execution_count": 3,
   "metadata": {},
   "outputs": [],
   "source": [
    "ninties = []\n",
    "eighties = []\n",
    "seventies = []\n",
    "lower_60 = []\n",
    "\n",
    "def rating(list):\n",
    "    for var in list:\n",
    "        if var >= 90:\n",
    "            ninties.append(var)\n",
    "        elif var >= 80:\n",
    "            eighties.append(var)\n",
    "        elif var >= 70:\n",
    "            seventies.append(var)\n",
    "        else:\n",
    "            lower_60.append(var)\n",
    "    return len(ninties), len(eighties), len(seventies), len(lower_60)\n",
    "\n"
   ]
  },
  {
   "cell_type": "code",
   "execution_count": 4,
   "metadata": {},
   "outputs": [
    {
     "data": {
      "text/plain": [
       "(11, 508, 5238, 12224)"
      ]
     },
     "execution_count": 4,
     "metadata": {},
     "output_type": "execute_result"
    }
   ],
   "source": [
    "rating(ratings)"
   ]
  },
  {
   "cell_type": "code",
   "execution_count": 5,
   "metadata": {},
   "outputs": [
    {
     "name": "stdout",
     "output_type": "stream",
     "text": [
      "0.06 2.83 29.13 67.98\n"
     ]
    }
   ],
   "source": [
    "dict = {'90s': len(ninties),\n",
    "        '80s': len(eighties),\n",
    "        '70s': len(seventies),\n",
    "        '>60s': len(lower_60)}\n",
    "\n",
    "s = pd.Series(data=dict)\n",
    "\n",
    "S_tier = round((s[0]/sum(s)* 100), 2)\n",
    "A_tier = round((s[1]/sum(s)* 100), 2)\n",
    "B_tier = round((s[2]/sum(s)* 100), 2)\n",
    "C_tier = round((s[3]/sum(s)* 100), 2)\n",
    "\n",
    "print(S_tier, A_tier, B_tier, C_tier)\n"
   ]
  },
  {
   "cell_type": "code",
   "execution_count": 6,
   "metadata": {},
   "outputs": [
    {
     "data": {
      "text/plain": [
       "90s        11\n",
       "80s       508\n",
       "70s      5238\n",
       ">60s    12224\n",
       "dtype: int64"
      ]
     },
     "execution_count": 6,
     "metadata": {},
     "output_type": "execute_result"
    }
   ],
   "source": [
    "s"
   ]
  }
 ],
 "metadata": {
  "kernelspec": {
   "display_name": "Python 3.9.12 ('base')",
   "language": "python",
   "name": "python3"
  },
  "language_info": {
   "codemirror_mode": {
    "name": "ipython",
    "version": 3
   },
   "file_extension": ".py",
   "mimetype": "text/x-python",
   "name": "python",
   "nbconvert_exporter": "python",
   "pygments_lexer": "ipython3",
   "version": "3.9.12"
  },
  "orig_nbformat": 4,
  "vscode": {
   "interpreter": {
    "hash": "6c9b5f2fc96e180b8a5a8a696d3f7e4165240dee36d2141e31628b5fa32cbf6e"
   }
  }
 },
 "nbformat": 4,
 "nbformat_minor": 2
}
